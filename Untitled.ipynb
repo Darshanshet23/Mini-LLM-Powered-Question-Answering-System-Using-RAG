{
 "cells": [
  {
   "cell_type": "code",
   "execution_count": 15,
   "id": "169b5f4a",
   "metadata": {},
   "outputs": [
    {
     "name": "stderr",
     "output_type": "stream",
     "text": [
      "Batches: 100%|██████████| 12/12 [00:37<00:00,  3.09s/it]\n"
     ]
    },
    {
     "name": "stdout",
     "output_type": "stream",
     "text": [
      "💡 FINAL ANSWER:\n",
      "\n",
      " The correct coded classification for 'Recurrent depressive disorder, currently in remission' is F33.4 according to ICD-10.\n"
     ]
    }
   ],
   "source": [
    "# === 1. IMPORTS ===\n",
    "from PyPDF2 import PdfReader\n",
    "import re\n",
    "from sentence_transformers import SentenceTransformer\n",
    "import faiss\n",
    "import numpy as np\n",
    "import pickle\n",
    "import ollama\n",
    "\n",
    "# === 2. LOAD & CHUNK PDF ===\n",
    "def extract_text_from_pdf(pdf_path):\n",
    "    reader = PdfReader(pdf_path)\n",
    "    full_text = \"\"\n",
    "    for page in reader.pages:\n",
    "        full_text += page.extract_text() + \"\\n\"\n",
    "    return re.sub(r'\\s+', ' ', full_text).strip()\n",
    "\n",
    "def chunk_text(text, chunk_size=300, overlap=50):\n",
    "    words = text.split()\n",
    "    chunks = []\n",
    "    i = 0\n",
    "    while i < len(words):\n",
    "        chunks.append(\" \".join(words[i:i+chunk_size]))\n",
    "        i += chunk_size - overlap\n",
    "    return chunks\n",
    "\n",
    "# Load and chunk PDF\n",
    "pdf_path = \"9241544228_eng.pdf\"\n",
    "full_text = extract_text_from_pdf(pdf_path)\n",
    "chunks = chunk_text(full_text)\n",
    "\n",
    "# === 3. EMBEDDING + FAISS SETUP ===\n",
    "embed_model = SentenceTransformer('all-MiniLM-L6-v2')\n",
    "embeddings = embed_model.encode(chunks, show_progress_bar=True).astype(\"float32\")\n",
    "\n",
    "# Store in FAISS index\n",
    "index = faiss.IndexFlatL2(embeddings.shape[1])\n",
    "index.add(embeddings)\n",
    "\n",
    "# Optional: save if you want to reuse later\n",
    "# faiss.write_index(index, \"index.faiss\")\n",
    "# with open(\"chunks.pkl\", \"wb\") as f: pickle.dump(chunks, f)\n",
    "\n",
    "# === 4. RAG FUNCTIONS ===\n",
    "def retrieve_context(query, k=5):\n",
    "    query_embedding = embed_model.encode([query]).astype(\"float32\")\n",
    "    distances, indices = index.search(query_embedding, k)\n",
    "    return [chunks[i] for i in indices[0]]\n",
    "\n",
    "def build_prompt(context_chunks, question):\n",
    "    context = \"\\n\".join(context_chunks)\n",
    "    return (\n",
    "        \"You are a helpful clinical assistant.\\n\\n\"\n",
    "        f\"Context:\\n{context}\\n\\n\"\n",
    "        f\"Question: {question}\\n\\nAnswer:\"\n",
    "    )\n",
    "\n",
    "def query_ollama(prompt, model=\"mistral\"):\n",
    "    response = ollama.chat(\n",
    "        model=model,\n",
    "        messages=[\n",
    "            {\"role\": \"system\", \"content\": \"You are a helpful clinical assistant.\"},\n",
    "            {\"role\": \"user\", \"content\": prompt}\n",
    "        ]\n",
    "    )\n",
    "    return response['message']['content']\n",
    "\n",
    "# === 5. EXAMPLE QA ===\n",
    "question = \"Give me the correct coded classification for the following diagnosis: ‘Recurrent depressive disorder, currently in remission’\"\n",
    "\n",
    "top_chunks = retrieve_context(question, k=5)\n",
    "prompt = build_prompt(top_chunks, question)\n",
    "answer = query_ollama(prompt, model=\"mistral\")  # Or llama2/gemma/etc.\n",
    "\n",
    "print(\"💡 FINAL ANSWER:\\n\")\n",
    "print(answer)\n"
   ]
  },
  {
   "cell_type": "code",
   "execution_count": 16,
   "id": "7acb6806",
   "metadata": {},
   "outputs": [
    {
     "name": "stdout",
     "output_type": "stream",
     "text": [
      "💡 Answer (OCD Criteria):\n",
      "\n",
      " The diagnostic criteria for Obsessive-Compulsive Disorder (OCD) include the following:\n",
      "1. Obsessions or compulsions, or both, must be present on most days for at least 2 successive weeks.\n",
      "2. The obsessions or compulsions must cause distress or interfere with activities.\n",
      "3. The obsessions must be recognized as the individual's own thoughts or impulses.\n",
      "4. There must be at least one thought or act that is still resisted unsuccessfully, even though others may be present which the sufferer no longer resists.\n",
      "5. The thought of carrying out the act must not in itself be pleasurable (simple relief of tension or anxiety is not regarded as pleasure in this sense).\n",
      "6. The thoughts, images, or impulses must be unpleasant and repetitive.\n",
      "7. For a definite diagnosis, the symptoms should persist for at least 2 successive weeks without interruption.\n"
     ]
    }
   ],
   "source": [
    "question2 = \"What are the diagnostic criteria for Obsessive-Compulsive Disorder (OCD)?\"\n",
    "top_chunks2 = retrieve_context(question2, k=5)\n",
    "prompt2 = build_prompt(top_chunks2, question2)\n",
    "answer2 = query_ollama(prompt2, model=\"mistral\")\n",
    "\n",
    "print(\"💡 Answer (OCD Criteria):\\n\")\n",
    "print(answer2)\n"
   ]
  },
  {
   "cell_type": "code",
   "execution_count": null,
   "id": "f2026620",
   "metadata": {},
   "outputs": [],
   "source": []
  }
 ],
 "metadata": {
  "kernelspec": {
   "display_name": "rag_env",
   "language": "python",
   "name": "python3"
  },
  "language_info": {
   "codemirror_mode": {
    "name": "ipython",
    "version": 3
   },
   "file_extension": ".py",
   "mimetype": "text/x-python",
   "name": "python",
   "nbconvert_exporter": "python",
   "pygments_lexer": "ipython3",
   "version": "3.11.8"
  }
 },
 "nbformat": 4,
 "nbformat_minor": 5
}
